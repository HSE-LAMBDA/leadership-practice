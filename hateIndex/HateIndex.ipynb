{
 "cells": [
  {
   "cell_type": "code",
   "execution_count": 1,
   "metadata": {},
   "outputs": [
    {
     "name": "stdout",
     "output_type": "stream",
     "text": [
      "Populating the interactive namespace from numpy and matplotlib\n"
     ]
    }
   ],
   "source": [
    "%pylab inline\n",
    "%config InlineBackend.figure_format = 'retina'\n",
    "style.use('dark_background')\n",
    "from IPython.display import clear_output\n",
    "from copy import copy, deepcopy\n",
    "from tqdm import tqdm_notebook as tm\n",
    "from tqdm import trange\n",
    "from glob import glob\n",
    "import os\n",
    "import sys\n",
    "import warnings\n",
    "warnings.filterwarnings(\"ignore\")\n",
    "import os\n",
    "os.environ['TF_CPP_MIN_LOG_LEVEL'] = '3' "
   ]
  },
  {
   "cell_type": "code",
   "execution_count": 2,
   "metadata": {},
   "outputs": [
    {
     "name": "stderr",
     "output_type": "stream",
     "text": [
      "Using TensorFlow backend.\n"
     ]
    }
   ],
   "source": [
    "import pandas as pd\n",
    "import pandas.io.sql as psql\n",
    "import kts\n",
    "from kts import *\n",
    "features.define_in_scope(globals())\n",
    "helpers.define_in_scope(globals())"
   ]
  },
  {
   "cell_type": "code",
   "execution_count": 3,
   "metadata": {},
   "outputs": [],
   "source": [
    "def get_conn():\n",
    "    import psycopg2 as pg\n",
    "    return pg.connect(\"dbname=vk_data user=vk_parser password=WegEWWXfedLf2YbS host=13.84.188.132\")\n",
    "\n",
    "def run_sql(query):\n",
    "    import pandas.io.sql as psql\n",
    "    res = psql.read_sql(query, get_conn())\n",
    "    try:\n",
    "        return res.set_index('uid')\n",
    "    except:\n",
    "        import warnings\n",
    "        warnings.warn(\"[run_sql] UID wasn't selected, default index used\")\n",
    "        return res\n",
    "\n",
    "def get_uid():\n",
    "    return run_sql(f\"SELECT uid FROM users WHERE data_loaded\")"
   ]
  },
  {
   "cell_type": "code",
   "execution_count": 4,
   "metadata": {},
   "outputs": [],
   "source": [
    "df = run_sql(f\"SELECT uid FROM users WHERE first_name = 'Аня'\")"
   ]
  },
  {
   "cell_type": "code",
   "execution_count": 5,
   "metadata": {
    "scrolled": true
   },
   "outputs": [
    {
     "data": {
      "text/html": [
       "<div>\n",
       "<style scoped>\n",
       "    .dataframe tbody tr th:only-of-type {\n",
       "        vertical-align: middle;\n",
       "    }\n",
       "\n",
       "    .dataframe tbody tr th {\n",
       "        vertical-align: top;\n",
       "    }\n",
       "\n",
       "    .dataframe thead th {\n",
       "        text-align: right;\n",
       "    }\n",
       "</style>\n",
       "<table border=\"1\" class=\"dataframe\">\n",
       "  <thead>\n",
       "    <tr style=\"text-align: right;\">\n",
       "      <th></th>\n",
       "    </tr>\n",
       "    <tr>\n",
       "      <th>uid</th>\n",
       "    </tr>\n",
       "  </thead>\n",
       "  <tbody>\n",
       "    <tr>\n",
       "      <th>21754523</th>\n",
       "    </tr>\n",
       "    <tr>\n",
       "      <th>67223827</th>\n",
       "    </tr>\n",
       "    <tr>\n",
       "      <th>190775618</th>\n",
       "    </tr>\n",
       "    <tr>\n",
       "      <th>6608545</th>\n",
       "    </tr>\n",
       "    <tr>\n",
       "      <th>2124713</th>\n",
       "    </tr>\n",
       "    <tr>\n",
       "      <th>1175796</th>\n",
       "    </tr>\n",
       "    <tr>\n",
       "      <th>1162136</th>\n",
       "    </tr>\n",
       "    <tr>\n",
       "      <th>235314</th>\n",
       "    </tr>\n",
       "    <tr>\n",
       "      <th>4458494</th>\n",
       "    </tr>\n",
       "    <tr>\n",
       "      <th>54332325</th>\n",
       "    </tr>\n",
       "    <tr>\n",
       "      <th>98409818</th>\n",
       "    </tr>\n",
       "    <tr>\n",
       "      <th>60107294</th>\n",
       "    </tr>\n",
       "    <tr>\n",
       "      <th>398462</th>\n",
       "    </tr>\n",
       "    <tr>\n",
       "      <th>3077205</th>\n",
       "    </tr>\n",
       "    <tr>\n",
       "      <th>11163366</th>\n",
       "    </tr>\n",
       "    <tr>\n",
       "      <th>4243648</th>\n",
       "    </tr>\n",
       "    <tr>\n",
       "      <th>3755097</th>\n",
       "    </tr>\n",
       "    <tr>\n",
       "      <th>129542419</th>\n",
       "    </tr>\n",
       "    <tr>\n",
       "      <th>13755565</th>\n",
       "    </tr>\n",
       "    <tr>\n",
       "      <th>2544176</th>\n",
       "    </tr>\n",
       "    <tr>\n",
       "      <th>1111802</th>\n",
       "    </tr>\n",
       "    <tr>\n",
       "      <th>464965937</th>\n",
       "    </tr>\n",
       "    <tr>\n",
       "      <th>30870505</th>\n",
       "    </tr>\n",
       "    <tr>\n",
       "      <th>881301</th>\n",
       "    </tr>\n",
       "    <tr>\n",
       "      <th>2088028</th>\n",
       "    </tr>\n",
       "    <tr>\n",
       "      <th>927904</th>\n",
       "    </tr>\n",
       "    <tr>\n",
       "      <th>455328027</th>\n",
       "    </tr>\n",
       "    <tr>\n",
       "      <th>506814224</th>\n",
       "    </tr>\n",
       "    <tr>\n",
       "      <th>8484774</th>\n",
       "    </tr>\n",
       "    <tr>\n",
       "      <th>1036597</th>\n",
       "    </tr>\n",
       "    <tr>\n",
       "      <th>...</th>\n",
       "    </tr>\n",
       "    <tr>\n",
       "      <th>66293323</th>\n",
       "    </tr>\n",
       "    <tr>\n",
       "      <th>142906914</th>\n",
       "    </tr>\n",
       "    <tr>\n",
       "      <th>5912621</th>\n",
       "    </tr>\n",
       "    <tr>\n",
       "      <th>1325048</th>\n",
       "    </tr>\n",
       "    <tr>\n",
       "      <th>32420654</th>\n",
       "    </tr>\n",
       "    <tr>\n",
       "      <th>13136274</th>\n",
       "    </tr>\n",
       "    <tr>\n",
       "      <th>34281439</th>\n",
       "    </tr>\n",
       "    <tr>\n",
       "      <th>32232978</th>\n",
       "    </tr>\n",
       "    <tr>\n",
       "      <th>1129429</th>\n",
       "    </tr>\n",
       "    <tr>\n",
       "      <th>5336120</th>\n",
       "    </tr>\n",
       "    <tr>\n",
       "      <th>2157980</th>\n",
       "    </tr>\n",
       "    <tr>\n",
       "      <th>2853865</th>\n",
       "    </tr>\n",
       "    <tr>\n",
       "      <th>2030457</th>\n",
       "    </tr>\n",
       "    <tr>\n",
       "      <th>1782743</th>\n",
       "    </tr>\n",
       "    <tr>\n",
       "      <th>11883678</th>\n",
       "    </tr>\n",
       "    <tr>\n",
       "      <th>54291845</th>\n",
       "    </tr>\n",
       "    <tr>\n",
       "      <th>118825099</th>\n",
       "    </tr>\n",
       "    <tr>\n",
       "      <th>122853</th>\n",
       "    </tr>\n",
       "    <tr>\n",
       "      <th>249096</th>\n",
       "    </tr>\n",
       "    <tr>\n",
       "      <th>1398655</th>\n",
       "    </tr>\n",
       "    <tr>\n",
       "      <th>34304086</th>\n",
       "    </tr>\n",
       "    <tr>\n",
       "      <th>19267855</th>\n",
       "    </tr>\n",
       "    <tr>\n",
       "      <th>3604367</th>\n",
       "    </tr>\n",
       "    <tr>\n",
       "      <th>373061661</th>\n",
       "    </tr>\n",
       "    <tr>\n",
       "      <th>32223079</th>\n",
       "    </tr>\n",
       "    <tr>\n",
       "      <th>3102113</th>\n",
       "    </tr>\n",
       "    <tr>\n",
       "      <th>262230056</th>\n",
       "    </tr>\n",
       "    <tr>\n",
       "      <th>1891028</th>\n",
       "    </tr>\n",
       "    <tr>\n",
       "      <th>4015193</th>\n",
       "    </tr>\n",
       "    <tr>\n",
       "      <th>107478072</th>\n",
       "    </tr>\n",
       "  </tbody>\n",
       "</table>\n",
       "<p>41478 rows × 0 columns</p>\n",
       "</div>"
      ],
      "text/plain": [
       "Empty DataFrame\n",
       "Columns: []\n",
       "Index: [21754523, 67223827, 190775618, 6608545, 2124713, 1175796, 1162136, 235314, 4458494, 54332325, 98409818, 60107294, 398462, 3077205, 11163366, 4243648, 3755097, 129542419, 13755565, 2544176, 1111802, 464965937, 30870505, 881301, 2088028, 927904, 455328027, 506814224, 8484774, 1036597, 53109224, 205058390, 442523663, 20174676, 205398165, 58681855, 203098066, 12376734, 11239301, 130773799, 310109190, 51523000, 64341297, 1209929, 134623273, 2576943, 14102723, 8481330, 31708215, 13750810, 17510987, 52497614, 154020114, 62112248, 92725027, 168078951, 162069905, 176492029, 169984019, 180805323, 191028986, 231364608, 201878490, 218833852, 234035678, 240819999, 253206281, 259422336, 259912556, 308858359, 295582817, 426700356, 451408043, 515816179, 475226858, 2844677, 2645015, 10603028, 17039095, 813144, 219666981, 2278881, 22719899, 2145411, 7087230, 5893776, 46369092, 8423087, 13317710, 21455912, 47457185, 84107704, 229881329, 69184213, 38143188, 40063684, 115819376, 273349096, 137434218, 170695740, ...]\n",
       "\n",
       "[41478 rows x 0 columns]"
      ]
     },
     "execution_count": 5,
     "metadata": {},
     "output_type": "execute_result"
    }
   ],
   "source": [
    "df"
   ]
  },
  {
   "cell_type": "code",
   "execution_count": 6,
   "metadata": {},
   "outputs": [
    {
     "name": "stderr",
     "output_type": "stream",
     "text": [
      "/home/yaroslav/.local/lib/python3.6/site-packages/ipykernel_launcher.py:12: UserWarning: [run_sql] UID wasn't selected, default index used\n",
      "  if sys.path[0] == '':\n"
     ]
    }
   ],
   "source": [
    "df = run_sql(f\"SELECT from_id, text FROM posts  WHERE (text <> '') AND (text LIKE '% да ладно тебе%')\")"
   ]
  },
  {
   "cell_type": "code",
   "execution_count": 7,
   "metadata": {
    "scrolled": true
   },
   "outputs": [
    {
     "data": {
      "text/html": [
       "<div>\n",
       "<style scoped>\n",
       "    .dataframe tbody tr th:only-of-type {\n",
       "        vertical-align: middle;\n",
       "    }\n",
       "\n",
       "    .dataframe tbody tr th {\n",
       "        vertical-align: top;\n",
       "    }\n",
       "\n",
       "    .dataframe thead th {\n",
       "        text-align: right;\n",
       "    }\n",
       "</style>\n",
       "<table border=\"1\" class=\"dataframe\">\n",
       "  <thead>\n",
       "    <tr style=\"text-align: right;\">\n",
       "      <th></th>\n",
       "      <th>from_id</th>\n",
       "      <th>text</th>\n",
       "    </tr>\n",
       "  </thead>\n",
       "  <tbody>\n",
       "    <tr>\n",
       "      <th>0</th>\n",
       "      <td>1739108</td>\n",
       "      <td>)) да ладно тебе!!))</td>\n",
       "    </tr>\n",
       "    <tr>\n",
       "      <th>1</th>\n",
       "      <td>5537362</td>\n",
       "      <td>ой, да ладно тебе РОм)</td>\n",
       "    </tr>\n",
       "    <tr>\n",
       "      <th>2</th>\n",
       "      <td>12596704</td>\n",
       "      <td>ой да ладно тебе)) вот мне такое неестественно...</td>\n",
       "    </tr>\n",
       "    <tr>\n",
       "      <th>3</th>\n",
       "      <td>661535</td>\n",
       "      <td>ахах))) любимый фильм- Scarface?)))  да ладно ...</td>\n",
       "    </tr>\n",
       "    <tr>\n",
       "      <th>4</th>\n",
       "      <td>15865259</td>\n",
       "      <td>ой, да ладно тебе))\\nСама такая)))\\nтебя я тож...</td>\n",
       "    </tr>\n",
       "    <tr>\n",
       "      <th>5</th>\n",
       "      <td>841561</td>\n",
       "      <td>ой да ладно тебе) как поживаешь? когда в китай...</td>\n",
       "    </tr>\n",
       "    <tr>\n",
       "      <th>6</th>\n",
       "      <td>6261751</td>\n",
       "      <td>Ой да ладно тебе :) Без этого было бы гораздо ...</td>\n",
       "    </tr>\n",
       "    <tr>\n",
       "      <th>7</th>\n",
       "      <td>1639616</td>\n",
       "      <td>ой да ладно тебе)))</td>\n",
       "    </tr>\n",
       "    <tr>\n",
       "      <th>8</th>\n",
       "      <td>3949108</td>\n",
       "      <td>ой да ладно тебе=*</td>\n",
       "    </tr>\n",
       "    <tr>\n",
       "      <th>9</th>\n",
       "      <td>7025616</td>\n",
       "      <td>ахахахах ... да ладно тебе =) \\nтакая реакция =)</td>\n",
       "    </tr>\n",
       "    <tr>\n",
       "      <th>10</th>\n",
       "      <td>5170843</td>\n",
       "      <td>хахаха да ладно тебе ))))</td>\n",
       "    </tr>\n",
       "    <tr>\n",
       "      <th>11</th>\n",
       "      <td>33200896</td>\n",
       "      <td>ахах да ладно тебе :DD\\nмур :*</td>\n",
       "    </tr>\n",
       "    <tr>\n",
       "      <th>12</th>\n",
       "      <td>2100581</td>\n",
       "      <td>ой да ладно тебе\\nу меня одну знакомую вообще ...</td>\n",
       "    </tr>\n",
       "    <tr>\n",
       "      <th>13</th>\n",
       "      <td>33055980</td>\n",
       "      <td>ой да ладно тебе!я думаю о тебе так не подумаю...</td>\n",
       "    </tr>\n",
       "    <tr>\n",
       "      <th>14</th>\n",
       "      <td>23045559</td>\n",
       "      <td>ой, да ладно тебе:DD\\nвремя так быстро летит:DD</td>\n",
       "    </tr>\n",
       "    <tr>\n",
       "      <th>15</th>\n",
       "      <td>82380</td>\n",
       "      <td>Ой, да ладно тебе;)) Стиснительный тут нашелся...</td>\n",
       "    </tr>\n",
       "    <tr>\n",
       "      <th>16</th>\n",
       "      <td>36596923</td>\n",
       "      <td>ой да ладно тебе=)\\nя думаю что ти думаешь что...</td>\n",
       "    </tr>\n",
       "    <tr>\n",
       "      <th>17</th>\n",
       "      <td>979411</td>\n",
       "      <td>Ой, да ладно тебе))))</td>\n",
       "    </tr>\n",
       "    <tr>\n",
       "      <th>18</th>\n",
       "      <td>1480663</td>\n",
       "      <td>ой, да ладно тебе)))))))  кто бы говорил!!!!</td>\n",
       "    </tr>\n",
       "    <tr>\n",
       "      <th>19</th>\n",
       "      <td>2496082</td>\n",
       "      <td>ну да ладно тебе смущатсья то сразу)) ня)) чма...</td>\n",
       "    </tr>\n",
       "    <tr>\n",
       "      <th>20</th>\n",
       "      <td>1088981</td>\n",
       "      <td>ахахах!! да ладно тебе издеваться, Ир!))))))))...</td>\n",
       "    </tr>\n",
       "    <tr>\n",
       "      <th>21</th>\n",
       "      <td>51047394</td>\n",
       "      <td>Трудоголик!!!!!!!!!!!!!!!!!\\nА так умничка, ст...</td>\n",
       "    </tr>\n",
       "    <tr>\n",
       "      <th>22</th>\n",
       "      <td>16756649</td>\n",
       "      <td>да я тоже вроде не плохо,сёдня последний день ...</td>\n",
       "    </tr>\n",
       "    <tr>\n",
       "      <th>23</th>\n",
       "      <td>5797553</td>\n",
       "      <td>ой да ладно тебе, кстати иногда бывает такие ч...</td>\n",
       "    </tr>\n",
       "    <tr>\n",
       "      <th>24</th>\n",
       "      <td>212556</td>\n",
       "      <td>ой, да ладно тебе - на комплемент-то напрашива...</td>\n",
       "    </tr>\n",
       "    <tr>\n",
       "      <th>25</th>\n",
       "      <td>391773</td>\n",
       "      <td>Ваньк) да ладно тебе) справишься!!! уж я то то...</td>\n",
       "    </tr>\n",
       "    <tr>\n",
       "      <th>26</th>\n",
       "      <td>626037</td>\n",
       "      <td>ой да ладно тебе)) можно подумать, ты плохой))...</td>\n",
       "    </tr>\n",
       "    <tr>\n",
       "      <th>27</th>\n",
       "      <td>40316831</td>\n",
       "      <td>Ой ну да ладно тебе=)</td>\n",
       "    </tr>\n",
       "    <tr>\n",
       "      <th>28</th>\n",
       "      <td>47281182</td>\n",
       "      <td>Ой, да ладно тебе! Обычная фотка!</td>\n",
       "    </tr>\n",
       "    <tr>\n",
       "      <th>29</th>\n",
       "      <td>672092</td>\n",
       "      <td>ахаха))) да ладно тебе! ))))\\n</td>\n",
       "    </tr>\n",
       "    <tr>\n",
       "      <th>30</th>\n",
       "      <td>5088742</td>\n",
       "      <td>ыыыы да ладно тебе! Обычно мы вдвоем организов...</td>\n",
       "    </tr>\n",
       "    <tr>\n",
       "      <th>31</th>\n",
       "      <td>16341350</td>\n",
       "      <td>Ой да ладно тебе)))</td>\n",
       "    </tr>\n",
       "    <tr>\n",
       "      <th>32</th>\n",
       "      <td>15759198</td>\n",
       "      <td>хд да ладно тебе)))))))я же шучу насчет кулисо...</td>\n",
       "    </tr>\n",
       "    <tr>\n",
       "      <th>33</th>\n",
       "      <td>49708262</td>\n",
       "      <td>=))))))))))))))хахахахаха да ладно тебе милый ...</td>\n",
       "    </tr>\n",
       "    <tr>\n",
       "      <th>34</th>\n",
       "      <td>7669498</td>\n",
       "      <td>я смущена)) да ладно тебе-мне нужна не оценка,...</td>\n",
       "    </tr>\n",
       "    <tr>\n",
       "      <th>35</th>\n",
       "      <td>901073</td>\n",
       "      <td>ой да ладно тебе =)</td>\n",
       "    </tr>\n",
       "    <tr>\n",
       "      <th>36</th>\n",
       "      <td>58720818</td>\n",
       "      <td>Ой да ладно тебе,давай вставай одевайся не лен...</td>\n",
       "    </tr>\n",
       "    <tr>\n",
       "      <th>37</th>\n",
       "      <td>132079297</td>\n",
       "      <td>ахахаха )) да ладно тебе, можешь остаться )))</td>\n",
       "    </tr>\n",
       "    <tr>\n",
       "      <th>38</th>\n",
       "      <td>18386</td>\n",
       "      <td>хехехехехехеех(мерзко смеюсь)  ))))))) да ладн...</td>\n",
       "    </tr>\n",
       "    <tr>\n",
       "      <th>39</th>\n",
       "      <td>15064482</td>\n",
       "      <td>ой да ладно тебе...скромный мальчишка))))</td>\n",
       "    </tr>\n",
       "    <tr>\n",
       "      <th>40</th>\n",
       "      <td>12023181</td>\n",
       "      <td>ой да ладно тебе..\\nсам выучишь все лучше всех...</td>\n",
       "    </tr>\n",
       "    <tr>\n",
       "      <th>41</th>\n",
       "      <td>404302</td>\n",
       "      <td>Ой да ладно тебе!Ты нарываешься на комплимент!)))</td>\n",
       "    </tr>\n",
       "    <tr>\n",
       "      <th>42</th>\n",
       "      <td>463596641</td>\n",
       "      <td>Рассказы и байки уральской деревеньки В каждой...</td>\n",
       "    </tr>\n",
       "    <tr>\n",
       "      <th>43</th>\n",
       "      <td>2435684</td>\n",
       "      <td>ахахаха да ладно тебе...я ж чуть чуть))</td>\n",
       "    </tr>\n",
       "    <tr>\n",
       "      <th>44</th>\n",
       "      <td>450721607</td>\n",
       "      <td>Вчера в Брудере на Таганке было акустическое в...</td>\n",
       "    </tr>\n",
       "    <tr>\n",
       "      <th>45</th>\n",
       "      <td>58193</td>\n",
       "      <td>:))) да ладно тебе:) просто хочешь доказать, ч...</td>\n",
       "    </tr>\n",
       "    <tr>\n",
       "      <th>46</th>\n",
       "      <td>11642851</td>\n",
       "      <td>Машусик, да ладно тебе=*** все нормально)))\\nС...</td>\n",
       "    </tr>\n",
       "    <tr>\n",
       "      <th>47</th>\n",
       "      <td>20136402</td>\n",
       "      <td>ой да ладно тебе...))) красавчик)))))))</td>\n",
       "    </tr>\n",
       "    <tr>\n",
       "      <th>48</th>\n",
       "      <td>115934753</td>\n",
       "      <td>Раньше: \\n- Я очень сложная личность. Меня выд...</td>\n",
       "    </tr>\n",
       "  </tbody>\n",
       "</table>\n",
       "</div>"
      ],
      "text/plain": [
       "      from_id                                               text\n",
       "0     1739108                               )) да ладно тебе!!))\n",
       "1     5537362                             ой, да ладно тебе РОм)\n",
       "2    12596704  ой да ладно тебе)) вот мне такое неестественно...\n",
       "3      661535  ахах))) любимый фильм- Scarface?)))  да ладно ...\n",
       "4    15865259  ой, да ладно тебе))\\nСама такая)))\\nтебя я тож...\n",
       "5      841561  ой да ладно тебе) как поживаешь? когда в китай...\n",
       "6     6261751  Ой да ладно тебе :) Без этого было бы гораздо ...\n",
       "7     1639616                                ой да ладно тебе)))\n",
       "8     3949108                                 ой да ладно тебе=*\n",
       "9     7025616  ахахахах ... да ладно тебе =) \\nтакая реакция =) \n",
       "10    5170843                         хахаха да ладно тебе )))) \n",
       "11   33200896                     ахах да ладно тебе :DD\\nмур :*\n",
       "12    2100581  ой да ладно тебе\\nу меня одну знакомую вообще ...\n",
       "13   33055980  ой да ладно тебе!я думаю о тебе так не подумаю...\n",
       "14   23045559    ой, да ладно тебе:DD\\nвремя так быстро летит:DD\n",
       "15      82380  Ой, да ладно тебе;)) Стиснительный тут нашелся...\n",
       "16   36596923  ой да ладно тебе=)\\nя думаю что ти думаешь что...\n",
       "17     979411                              Ой, да ладно тебе))))\n",
       "18    1480663       ой, да ладно тебе)))))))  кто бы говорил!!!!\n",
       "19    2496082  ну да ладно тебе смущатсья то сразу)) ня)) чма...\n",
       "20    1088981  ахахах!! да ладно тебе издеваться, Ир!))))))))...\n",
       "21   51047394  Трудоголик!!!!!!!!!!!!!!!!!\\nА так умничка, ст...\n",
       "22   16756649  да я тоже вроде не плохо,сёдня последний день ...\n",
       "23    5797553  ой да ладно тебе, кстати иногда бывает такие ч...\n",
       "24     212556  ой, да ладно тебе - на комплемент-то напрашива...\n",
       "25     391773  Ваньк) да ладно тебе) справишься!!! уж я то то...\n",
       "26     626037  ой да ладно тебе)) можно подумать, ты плохой))...\n",
       "27   40316831                              Ой ну да ладно тебе=)\n",
       "28   47281182                  Ой, да ладно тебе! Обычная фотка!\n",
       "29     672092                     ахаха))) да ладно тебе! ))))\\n\n",
       "30    5088742  ыыыы да ладно тебе! Обычно мы вдвоем организов...\n",
       "31   16341350                                Ой да ладно тебе)))\n",
       "32   15759198  хд да ладно тебе)))))))я же шучу насчет кулисо...\n",
       "33   49708262  =))))))))))))))хахахахаха да ладно тебе милый ...\n",
       "34    7669498  я смущена)) да ладно тебе-мне нужна не оценка,...\n",
       "35     901073                                ой да ладно тебе =)\n",
       "36   58720818  Ой да ладно тебе,давай вставай одевайся не лен...\n",
       "37  132079297      ахахаха )) да ладно тебе, можешь остаться )))\n",
       "38      18386  хехехехехехеех(мерзко смеюсь)  ))))))) да ладн...\n",
       "39   15064482          ой да ладно тебе...скромный мальчишка))))\n",
       "40   12023181  ой да ладно тебе..\\nсам выучишь все лучше всех...\n",
       "41     404302  Ой да ладно тебе!Ты нарываешься на комплимент!)))\n",
       "42  463596641  Рассказы и байки уральской деревеньки В каждой...\n",
       "43    2435684            ахахаха да ладно тебе...я ж чуть чуть))\n",
       "44  450721607  Вчера в Брудере на Таганке было акустическое в...\n",
       "45      58193  :))) да ладно тебе:) просто хочешь доказать, ч...\n",
       "46   11642851  Машусик, да ладно тебе=*** все нормально)))\\nС...\n",
       "47   20136402            ой да ладно тебе...))) красавчик)))))))\n",
       "48  115934753  Раньше: \\n- Я очень сложная личность. Меня выд..."
      ]
     },
     "execution_count": 7,
     "metadata": {},
     "output_type": "execute_result"
    }
   ],
   "source": [
    "df"
   ]
  },
  {
   "cell_type": "markdown",
   "metadata": {},
   "source": [
    "### Извлекаем эмодзи из сообщений"
   ]
  },
  {
   "cell_type": "code",
   "execution_count": 8,
   "metadata": {},
   "outputs": [],
   "source": [
    "import emoji"
   ]
  },
  {
   "cell_type": "code",
   "execution_count": 9,
   "metadata": {},
   "outputs": [],
   "source": [
    "def getEmojiFromString(text):\n",
    "    listText = list(text)\n",
    "    emojiList = [c for c in listText if c in emoji.UNICODE_EMOJI]\n",
    "    return np.unique(emojiList, return_counts=True)\n",
    "\n",
    "def getSarcasmEmojiFromString(text):\n",
    "    sarcasmEmoji = ['🙃', '🐸', '💁', '🌝']\n",
    "    emojiList = [c for c in text if c in emoji.UNICODE_EMOJI]\n",
    "    sarcasmEmojiList = [c for c in emojiList if c in sarcasmEmoji]\n",
    "    return np.unique(sarcasmEmojiList, return_counts=True)\n",
    "\n",
    "def getNegativeEmojiFromString(text):\n",
    "    negativeEmoji = ['😠', '😡', '😤', '👿', '👎', '👊', '👺', '🤬', '😈', '💀', '☠️', '🔫', '😕', '🙅', '😾', '🖕']\n",
    "    emojiList = [c for c in text if c in emoji.UNICODE_EMOJI]\n",
    "    sarcasmEmojiList = [c for c in emojiList if c in negativeEmoji]\n",
    "    return np.unique(sarcasmEmojiList, return_counts=True)\n",
    "\n",
    "def getNegativeEmojiValueFromString(s):\n",
    "    negEmoji = getNegativeEmojiFromString(s)\n",
    "    return negEmoji[1].sum()"
   ]
  },
  {
   "cell_type": "markdown",
   "metadata": {},
   "source": [
    "### Выделяем сарказм из текста"
   ]
  },
  {
   "cell_type": "code",
   "execution_count": 10,
   "metadata": {},
   "outputs": [],
   "source": [
    "import string \n",
    "def removePunctuationFromString(s):\n",
    "    return s.translate(str.maketrans('', '', string.punctuation))\n",
    "\n",
    "def getSarcasmPhraseFromString(s):\n",
    "    sarcasmVocabulary = ['ну да конечно', 'да что ты говоришь', 'да ладно', 'спасибо кэп', 'что бы мы без тебя делали',\n",
    "                         'ага конечно', 'прям сразу', 'прямо сразу', 'ой конечно', 'ой ладно', 'да что ты', 'ой да конечно']\n",
    "    strClean = removePunctuationFromString(s)\n",
    "    sarcasmList = []\n",
    "    for sarcasmExpression in sarcasmVocabulary:\n",
    "        if sarcasmExpression in s:\n",
    "            sarcasmList.append(sarcasmExpression)\n",
    "    return sarcasmList\n",
    "\n",
    "def getSarcasmValueFromString(s):\n",
    "    sarcasmPhrase = getSarcasmPhraseFromString(s)\n",
    "    sarcasmEmoji = getSarcasmEmojiFromString(s)\n",
    "    return int(len(sarcasmPhrase) or len(sarcasmEmoji[0]))"
   ]
  },
  {
   "cell_type": "code",
   "execution_count": 11,
   "metadata": {},
   "outputs": [],
   "source": [
    "s = 'ой да ладно прям стесняшка!))))'"
   ]
  },
  {
   "cell_type": "code",
   "execution_count": 12,
   "metadata": {},
   "outputs": [
    {
     "data": {
      "text/plain": [
       "'ой да ладно прям стесняшка'"
      ]
     },
     "execution_count": 12,
     "metadata": {},
     "output_type": "execute_result"
    }
   ],
   "source": [
    "removePunctuationFromString(s)"
   ]
  },
  {
   "cell_type": "code",
   "execution_count": 13,
   "metadata": {},
   "outputs": [
    {
     "data": {
      "text/plain": [
       "['да ладно']"
      ]
     },
     "execution_count": 13,
     "metadata": {},
     "output_type": "execute_result"
    }
   ],
   "source": [
    "getSarcasmPhraseFromString(s)"
   ]
  },
  {
   "cell_type": "code",
   "execution_count": 14,
   "metadata": {},
   "outputs": [
    {
     "data": {
      "text/plain": [
       "1"
      ]
     },
     "execution_count": 14,
     "metadata": {},
     "output_type": "execute_result"
    }
   ],
   "source": [
    "getSarcasmValueFromString(s)"
   ]
  },
  {
   "cell_type": "markdown",
   "metadata": {},
   "source": [
    "## Sentiment Model\n"
   ]
  },
  {
   "cell_type": "code",
   "execution_count": 15,
   "metadata": {},
   "outputs": [],
   "source": [
    "from sentimentModel import SentimentModel"
   ]
  },
  {
   "cell_type": "code",
   "execution_count": 16,
   "metadata": {
    "collapsed": true
   },
   "outputs": [
    {
     "name": "stderr",
     "output_type": "stream",
     "text": [
      "WARNING: Logging before flag parsing goes to stderr.\n",
      "W0926 13:18:52.540940 139911975872320 deprecation_wrapper.py:119] From /home/yaroslav/.local/lib/python3.6/site-packages/keras/backend/tensorflow_backend.py:517: The name tf.placeholder is deprecated. Please use tf.compat.v1.placeholder instead.\n",
      "\n",
      "W0926 13:18:52.589654 139911975872320 deprecation_wrapper.py:119] From /home/yaroslav/.local/lib/python3.6/site-packages/keras/backend/tensorflow_backend.py:4138: The name tf.random_uniform is deprecated. Please use tf.random.uniform instead.\n",
      "\n",
      "W0926 13:18:52.618662 139911975872320 deprecation_wrapper.py:119] From /home/yaroslav/.local/lib/python3.6/site-packages/keras/backend/tensorflow_backend.py:131: The name tf.get_default_graph is deprecated. Please use tf.compat.v1.get_default_graph instead.\n",
      "\n",
      "W0926 13:18:52.619752 139911975872320 deprecation_wrapper.py:119] From /home/yaroslav/.local/lib/python3.6/site-packages/keras/backend/tensorflow_backend.py:133: The name tf.placeholder_with_default is deprecated. Please use tf.compat.v1.placeholder_with_default instead.\n",
      "\n",
      "W0926 13:18:52.640016 139911975872320 deprecation.py:506] From /home/yaroslav/.local/lib/python3.6/site-packages/keras/backend/tensorflow_backend.py:3445: calling dropout (from tensorflow.python.ops.nn_ops) with keep_prob is deprecated and will be removed in a future version.\n",
      "Instructions for updating:\n",
      "Please use `rate` instead of `keep_prob`. Rate should be set to `rate = 1 - keep_prob`.\n",
      "W0926 13:18:54.609287 139911975872320 deprecation_wrapper.py:119] From /home/yaroslav/.local/lib/python3.6/site-packages/keras/backend/tensorflow_backend.py:174: The name tf.get_default_session is deprecated. Please use tf.compat.v1.get_default_session instead.\n",
      "\n",
      "W0926 13:18:56.089865 139911975872320 deprecation_wrapper.py:119] From /home/yaroslav/.local/lib/python3.6/site-packages/keras/optimizers.py:790: The name tf.train.Optimizer is deprecated. Please use tf.compat.v1.train.Optimizer instead.\n",
      "\n",
      "W0926 13:18:56.120335 139911975872320 deprecation.py:323] From /usr/local/lib/python3.6/dist-packages/tensorflow/python/ops/nn_impl.py:180: add_dispatch_support.<locals>.wrapper (from tensorflow.python.ops.array_ops) is deprecated and will be removed in a future version.\n",
      "Instructions for updating:\n",
      "Use tf.where in 2.0, which has the same broadcast rule as np.where\n"
     ]
    }
   ],
   "source": [
    "model = SentimentModel()"
   ]
  },
  {
   "cell_type": "code",
   "execution_count": 17,
   "metadata": {},
   "outputs": [
    {
     "data": {
      "text/plain": [
       "0.5951458"
      ]
     },
     "execution_count": 17,
     "metadata": {},
     "output_type": "execute_result"
    }
   ],
   "source": [
    "model.predictText('Привет')[0][0]"
   ]
  },
  {
   "cell_type": "code",
   "execution_count": 34,
   "metadata": {},
   "outputs": [
    {
     "data": {
      "text/plain": [
       "0.64083725"
      ]
     },
     "execution_count": 34,
     "metadata": {},
     "output_type": "execute_result"
    }
   ],
   "source": [
    "model.predictText('Я люблю тебя')[0][0]"
   ]
  },
  {
   "cell_type": "code",
   "execution_count": 40,
   "metadata": {},
   "outputs": [
    {
     "data": {
      "text/plain": [
       "0.12531294"
      ]
     },
     "execution_count": 40,
     "metadata": {},
     "output_type": "execute_result"
    }
   ],
   "source": [
    "model.predictText('Иди куда подальше')[0][0]"
   ]
  },
  {
   "cell_type": "code",
   "execution_count": 18,
   "metadata": {},
   "outputs": [
    {
     "data": {
      "text/plain": [
       "0.036379784"
      ]
     },
     "execution_count": 18,
     "metadata": {},
     "output_type": "execute_result"
    }
   ],
   "source": [
    "model.predictText('Ненавижу тебя!!!')[0][0]"
   ]
  },
  {
   "cell_type": "markdown",
   "metadata": {},
   "source": [
    "## Hate index"
   ]
  },
  {
   "cell_type": "code",
   "execution_count": 19,
   "metadata": {},
   "outputs": [],
   "source": [
    "def getPostsByUid(uid):\n",
    "    sqlQuery = \"SELECT from_id, text FROM posts  WHERE (text <> '') AND (from_id = \" + str(uid) + \")\"\n",
    "    return run_sql(sqlQuery).text"
   ]
  },
  {
   "cell_type": "code",
   "execution_count": 25,
   "metadata": {},
   "outputs": [],
   "source": [
    "def getHateVector(sentimentModel, uid):\n",
    "    df = getPostsByUid(uid)\n",
    "    if df.empty:\n",
    "        return None\n",
    "    sentimentValues = [sentimentModel.predictText(df[i])[0][0] for i in range(df.shape[0])]\n",
    "    sarcasmValues = [getSarcasmValueFromString(df[i]) for i in range(df.shape[0])]\n",
    "    negativeEmojiValue = [np.any(getNegativeEmojiValueFromString(df[i])) for i in range(df.shape[0])]\n",
    "    \n",
    "    statisticSentimnet = np.mean(sentimentValues)\n",
    "    statisticSarcasm = np.mean(sarcasmValues)\n",
    "    statisticEmoji = np.mean(negativeEmojiValue)\n",
    "    \n",
    "    NORM_VALUE = 0.88\n",
    "    NORM_COEF = 0.05\n",
    "    \n",
    "    return min((1 - statisticSentimnet + NORM_COEF) * (1 + statisticSarcasm) * (1 + statisticEmoji) / NORM_VALUE, 1)"
   ]
  },
  {
   "cell_type": "code",
   "execution_count": 26,
   "metadata": {},
   "outputs": [
    {
     "data": {
      "text/plain": [
       "0.643421442840587"
      ]
     },
     "execution_count": 26,
     "metadata": {},
     "output_type": "execute_result"
    }
   ],
   "source": [
    "getHateVector(model, 58720818)"
   ]
  },
  {
   "cell_type": "code",
   "execution_count": 27,
   "metadata": {},
   "outputs": [
    {
     "data": {
      "text/plain": [
       "0.8049112189222466"
      ]
     },
     "execution_count": 27,
     "metadata": {},
     "output_type": "execute_result"
    }
   ],
   "source": [
    "# использует негативные эмоджи и плохо выражается\n",
    "getHateVector(model, 230622560)"
   ]
  },
  {
   "cell_type": "code",
   "execution_count": 28,
   "metadata": {},
   "outputs": [
    {
     "data": {
      "text/plain": [
       "0.7856840978969227"
      ]
     },
     "execution_count": 28,
     "metadata": {},
     "output_type": "execute_result"
    }
   ],
   "source": [
    "# немного матерится\n",
    "getHateVector(model, 14403306)"
   ]
  },
  {
   "cell_type": "code",
   "execution_count": 29,
   "metadata": {},
   "outputs": [
    {
     "data": {
      "text/plain": [
       "0.6537101350047372"
      ]
     },
     "execution_count": 29,
     "metadata": {},
     "output_type": "execute_result"
    }
   ],
   "source": [
    "getHateVector(model, 16048952)"
   ]
  }
 ],
 "metadata": {
  "kernelspec": {
   "display_name": "Python 2",
   "language": "python",
   "name": "python2"
  },
  "language_info": {
   "codemirror_mode": {
    "name": "ipython",
    "version": 3
   },
   "file_extension": ".py",
   "mimetype": "text/x-python",
   "name": "python",
   "nbconvert_exporter": "python",
   "pygments_lexer": "ipython3",
   "version": "3.6.8"
  }
 },
 "nbformat": 4,
 "nbformat_minor": 2
}
