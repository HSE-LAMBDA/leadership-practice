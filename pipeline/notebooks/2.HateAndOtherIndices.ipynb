{
 "cells": [
  {
   "cell_type": "code",
   "execution_count": 1,
   "metadata": {},
   "outputs": [
    {
     "name": "stdout",
     "output_type": "stream",
     "text": [
      "Populating the interactive namespace from numpy and matplotlib\n"
     ]
    }
   ],
   "source": [
    "%pylab inline\n",
    "%config InlineBackend.figure_format = 'retina'\n",
    "style.use('dark_background')\n",
    "from IPython.display import clear_output\n",
    "from copy import copy, deepcopy\n",
    "from tqdm import tqdm_notebook as tm\n",
    "from tqdm import trange\n",
    "from glob import glob\n",
    "import os\n",
    "import sys"
   ]
  },
  {
   "cell_type": "code",
   "execution_count": 3,
   "metadata": {},
   "outputs": [],
   "source": [
    "import pandas as pd\n",
    "import kts\n",
    "from kts import *\n",
    "features.define_in_scope(globals())\n",
    "helpers.define_in_scope(globals())\n",
    "train = kts.load('train')"
   ]
  },
  {
   "cell_type": "code",
   "execution_count": 37,
   "metadata": {},
   "outputs": [],
   "source": [
    "@helper\n",
    "def compute_hate_index(uid):\n",
    "    # Compute hate index given a uid\n",
    "    hate_index = uid / 150000\n",
    "    return hate_index"
   ]
  },
  {
   "cell_type": "code",
   "execution_count": 38,
   "metadata": {},
   "outputs": [
    {
     "data": {
      "text/html": [
       "<div>\n",
       "<style scoped>\n",
       "    .dataframe tbody tr th:only-of-type {\n",
       "        vertical-align: middle;\n",
       "    }\n",
       "\n",
       "    .dataframe tbody tr th {\n",
       "        vertical-align: top;\n",
       "    }\n",
       "\n",
       "    .dataframe thead th {\n",
       "        text-align: right;\n",
       "    }\n",
       "</style>\n",
       "<table border=\"1\" class=\"dataframe\">\n",
       "  <thead>\n",
       "    <tr style=\"text-align: right;\">\n",
       "      <th></th>\n",
       "      <th>hate_index</th>\n",
       "    </tr>\n",
       "    <tr>\n",
       "      <th>uid</th>\n",
       "      <th></th>\n",
       "    </tr>\n",
       "  </thead>\n",
       "  <tbody>\n",
       "    <tr>\n",
       "      <th>311546938</th>\n",
       "      <td>2076.979587</td>\n",
       "    </tr>\n",
       "    <tr>\n",
       "      <th>296370791</th>\n",
       "      <td>1975.805273</td>\n",
       "    </tr>\n",
       "    <tr>\n",
       "      <th>305944914</th>\n",
       "      <td>2039.632760</td>\n",
       "    </tr>\n",
       "    <tr>\n",
       "      <th>299988557</th>\n",
       "      <td>1999.923713</td>\n",
       "    </tr>\n",
       "    <tr>\n",
       "      <th>313685503</th>\n",
       "      <td>2091.236687</td>\n",
       "    </tr>\n",
       "    <tr>\n",
       "      <th>301059313</th>\n",
       "      <td>2007.062087</td>\n",
       "    </tr>\n",
       "    <tr>\n",
       "      <th>316323960</th>\n",
       "      <td>2108.826400</td>\n",
       "    </tr>\n",
       "    <tr>\n",
       "      <th>307714904</th>\n",
       "      <td>2051.432693</td>\n",
       "    </tr>\n",
       "    <tr>\n",
       "      <th>326498214</th>\n",
       "      <td>2176.654760</td>\n",
       "    </tr>\n",
       "    <tr>\n",
       "      <th>306152119</th>\n",
       "      <td>2041.014127</td>\n",
       "    </tr>\n",
       "  </tbody>\n",
       "</table>\n",
       "</div>"
      ],
      "text/plain": [
       "            hate_index\n",
       "uid                   \n",
       "311546938  2076.979587\n",
       "296370791  1975.805273\n",
       "305944914  2039.632760\n",
       "299988557  1999.923713\n",
       "313685503  2091.236687\n",
       "301059313  2007.062087\n",
       "316323960  2108.826400\n",
       "307714904  2051.432693\n",
       "326498214  2176.654760\n",
       "306152119  2041.014127"
      ]
     },
     "metadata": {},
     "output_type": "display_data"
    }
   ],
   "source": [
    "@preview(train, [10])\n",
    "def hate_index(df):\n",
    "    res = stl.empty_like(df)\n",
    "    res['uid'] = res.index\n",
    "    # we should return hate index value in a dataframe \n",
    "    # with only one column: hate_index, and uid as an index\n",
    "    res['hate_index'] = res.uid.apply(compute_hate_index)\n",
    "    return stl.column_selector(['hate_index'])(res)\n"
   ]
  },
  {
   "cell_type": "code",
   "execution_count": 39,
   "metadata": {},
   "outputs": [],
   "source": [
    "@register\n",
    "def hate_index(df):\n",
    "    res = stl.empty_like(df)\n",
    "    res['uid'] = res.index\n",
    "    # we should return hate index value in a dataframe \n",
    "    # with only one column: hate_index, and uid as an index\n",
    "    res['hate_index'] = res.uid.apply(compute_hate_index)\n",
    "    return stl.column_selector(['hate_index'])(res)\n"
   ]
  },
  {
   "cell_type": "code",
   "execution_count": null,
   "metadata": {},
   "outputs": [],
   "source": []
  }
 ],
 "metadata": {
  "kernelspec": {
   "display_name": "Python 3",
   "language": "python",
   "name": "python3"
  },
  "language_info": {
   "codemirror_mode": {
    "name": "ipython",
    "version": 3
   },
   "file_extension": ".py",
   "mimetype": "text/x-python",
   "name": "python",
   "nbconvert_exporter": "python",
   "pygments_lexer": "ipython3",
   "version": "3.6.3"
  }
 },
 "nbformat": 4,
 "nbformat_minor": 2
}
