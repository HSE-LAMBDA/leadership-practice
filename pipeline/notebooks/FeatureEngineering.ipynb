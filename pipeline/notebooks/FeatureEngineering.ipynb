{
 "cells": [
  {
   "cell_type": "code",
   "execution_count": 1,
   "metadata": {},
   "outputs": [
    {
     "name": "stdout",
     "output_type": "stream",
     "text": [
      "Populating the interactive namespace from numpy and matplotlib\n"
     ]
    }
   ],
   "source": [
    "%pylab inline\n",
    "%config InlineBackend.figure_format = 'retina'\n",
    "style.use('dark_background')\n",
    "from IPython.display import clear_output\n",
    "from copy import copy, deepcopy\n",
    "from tqdm import tqdm_notebook as tm\n",
    "from tqdm import trange\n",
    "from glob import glob\n",
    "import os\n",
    "import sys"
   ]
  },
  {
   "cell_type": "code",
   "execution_count": 2,
   "metadata": {},
   "outputs": [],
   "source": [
    "import pandas as pd\n",
    "import pandas.io.sql as psql\n",
    "import kts\n",
    "from kts import *\n",
    "features.define_in_scope(globals())\n",
    "helpers.define_in_scope(globals())"
   ]
  },
  {
   "cell_type": "code",
   "execution_count": 3,
   "metadata": {},
   "outputs": [],
   "source": [
    "train = kts.load('train')"
   ]
  },
  {
   "cell_type": "code",
   "execution_count": 4,
   "metadata": {},
   "outputs": [],
   "source": [
    "@helper\n",
    "def get_conn():\n",
    "    import psycopg2 as pg\n",
    "    return pg.connect(\"dbname=vk_data user=vk_parser password=WegEWWXfedLf2YbS host=13.84.188.132\")\n"
   ]
  },
  {
   "cell_type": "code",
   "execution_count": 19,
   "metadata": {},
   "outputs": [],
   "source": [
    "@helper\n",
    "def run_sql(query):\n",
    "    import pandas.io.sql as psql\n",
    "    res = psql.read_sql(query, get_conn())\n",
    "    try:\n",
    "        return res.set_index('uid')\n",
    "    except:\n",
    "        import warnings\n",
    "        warnings.warn(\"[run_sql] UID wasn't selected, default index used\")\n",
    "        return res"
   ]
  },
  {
   "cell_type": "code",
   "execution_count": 37,
   "metadata": {},
   "outputs": [],
   "source": [
    "@helper\n",
    "def get_uid():\n",
    "    return run_sql(f\"SELECT uid FROM users WHERE data_loaded\")"
   ]
  },
  {
   "cell_type": "code",
   "execution_count": null,
   "metadata": {},
   "outputs": [],
   "source": [
    "# train = get_uid()\n",
    "# kts.save('train')"
   ]
  },
  {
   "cell_type": "code",
   "execution_count": 43,
   "metadata": {},
   "outputs": [],
   "source": [
    "@helper\n",
    "def get_photo_urls():\n",
    "    return run_sql(\"SELECT uid, photo_100, photo_200_orig FROM users WHERE data_loaded\")"
   ]
  },
  {
   "cell_type": "code",
   "execution_count": 46,
   "metadata": {},
   "outputs": [],
   "source": [
    "# @preview(train, [10, 20])\n",
    "@register\n",
    "def photo_urls(df):\n",
    "    tmp = get_photo_urls()\n",
    "    return tmp.loc[df.index]"
   ]
  },
  {
   "cell_type": "code",
   "execution_count": 56,
   "metadata": {},
   "outputs": [],
   "source": [
    "@helper\n",
    "def download_img(a):\n",
    "    if len(a.shape) > 1:\n",
    "        return\n",
    "    for field in ['photo_100', 'photo_200_orig']:\n",
    "        if not os.path.exists(f'../input/{field}'):\n",
    "            os.mkdir(f'../input/{field}')\n",
    "        pathsave = f\"../input/{field}/{a['uid']}.jpg\"\n",
    "        if os.path.exists(pathsave):\n",
    "            continue\n",
    "        with open(pathsave, 'wb') as f:\n",
    "            _ = f.write(r.get(a[field]).content)\n",
    "    return a"
   ]
  },
  {
   "cell_type": "code",
   "execution_count": 74,
   "metadata": {},
   "outputs": [],
   "source": [
    "@helper\n",
    "def write_embedding(emb):\n",
    "    emb_col_names = [f'face_{i}' for i in range(128)]\n",
    "    tmp = pd.Series()\n",
    "    for col, val in zip(emb_col_names, emb):\n",
    "        tmp[col] = val\n",
    "    return tmp"
   ]
  },
  {
   "cell_type": "code",
   "execution_count": 75,
   "metadata": {},
   "outputs": [],
   "source": [
    "@helper\n",
    "def get_embedding(row):\n",
    "    uid = row['uid']\n",
    "    import face_recognition as fr\n",
    "    try:\n",
    "        img = fr.load_image_file(f\"../input/photo_200_orig/{uid}.jpg\")\n",
    "        embs = fr.face_encodings(img)\n",
    "        if len(embs) != 1:\n",
    "            return write_embedding([None] * 128)\n",
    "        return write_embedding(embs[0])\n",
    "    except Exception as e:\n",
    "        return write_embedding([None] * 128)"
   ]
  },
  {
   "cell_type": "code",
   "execution_count": 81,
   "metadata": {},
   "outputs": [],
   "source": [
    "# %%time\n",
    "# @preview(train, [10000])\n",
    "@register\n",
    "def embeddings(df):\n",
    "    tmp = photo_urls(df)\n",
    "    stl.apply(tmp.reset_index(), download_img, axis=1, n_threads=40)\n",
    "    \n",
    "    res = stl.apply(df.reset_index()[['uid']], get_embedding, axis=1, n_threads=40)\n",
    "    res.index = df.index\n",
    "    return res\n",
    "    "
   ]
  },
  {
   "cell_type": "code",
   "execution_count": 98,
   "metadata": {},
   "outputs": [],
   "source": [
    "# %%time\n",
    "# @preview(train, [10])\n",
    "@register\n",
    "def has_embedding(df):\n",
    "    tmp = embeddings(df)\n",
    "    res = stl.empty_like(df)\n",
    "    res['has_embedding'] = tmp['face_0'].isna()\n",
    "    return res"
   ]
  },
  {
   "cell_type": "code",
   "execution_count": null,
   "metadata": {},
   "outputs": [],
   "source": []
  }
 ],
 "metadata": {
  "kernelspec": {
   "display_name": "Python 3",
   "language": "python",
   "name": "python3"
  },
  "language_info": {
   "codemirror_mode": {
    "name": "ipython",
    "version": 3
   },
   "file_extension": ".py",
   "mimetype": "text/x-python",
   "name": "python",
   "nbconvert_exporter": "python",
   "pygments_lexer": "ipython3",
   "version": "3.6.3"
  }
 },
 "nbformat": 4,
 "nbformat_minor": 2
}
