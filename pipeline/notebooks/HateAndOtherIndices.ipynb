{
 "cells": [
  {
   "cell_type": "code",
   "execution_count": null,
   "metadata": {},
   "outputs": [],
   "source": [
    "%pylab inline\n",
    "%config InlineBackend.figure_format = 'retina'\n",
    "style.use('dark_background')\n",
    "from IPython.display import clear_output\n",
    "from copy import copy, deepcopy\n",
    "from tqdm import tqdm_notebook as tm\n",
    "from tqdm import trange\n",
    "from glob import glob\n",
    "import os\n",
    "import sys"
   ]
  },
  {
   "cell_type": "code",
   "execution_count": null,
   "metadata": {},
   "outputs": [],
   "source": [
    "import pandas as pd\n",
    "import kts\n",
    "from kts import *\n",
    "features.define_in_scope(globals())\n",
    "helpers.define_in_scope(globals())\n",
    "train = kts.load('train')"
   ]
  },
  {
   "cell_type": "code",
   "execution_count": null,
   "metadata": {},
   "outputs": [],
   "source": [
    "@helper\n",
    "def compute_hate_index(uid):\n",
    "    # Compute hate index given a uid\n",
    "    hate_index = uid / 150000\n",
    "    return hate_index"
   ]
  },
  {
   "cell_type": "code",
   "execution_count": null,
   "metadata": {},
   "outputs": [],
   "source": [
    "@preview(train, [10])\n",
    "def hate_index(df):\n",
    "    res = stl.empty_like(df)\n",
    "    res['uid'] = res.index\n",
    "    # we should return hate index value in a dataframe \n",
    "    # with only one column: hate_index, and uid as an index\n",
    "    res['hate_index'] = res.uid.apply(compute_hate_index)\n",
    "    return stl.column_selector(['hate_index'])(res)\n"
   ]
  },
  {
   "cell_type": "code",
   "execution_count": null,
   "metadata": {},
   "outputs": [],
   "source": [
    "@register\n",
    "def hate_index(df):\n",
    "    res = stl.empty_like(df)\n",
    "    res['uid'] = res.index\n",
    "    # we should return hate index value in a dataframe \n",
    "    # with only one column: hate_index, and uid as an index\n",
    "    res['hate_index'] = res.uid.apply(compute_hate_index)\n",
    "    return stl.column_selector(['hate_index'])(res)\n"
   ]
  },
  {
   "cell_type": "code",
   "execution_count": null,
   "metadata": {},
   "outputs": [],
   "source": [
    "@helper\n",
    "def compute_kindness_index(uid):\n",
    "    # Compute hate index given a uid\n",
    "    from kindness_index import compute_kindness_index\n",
    "    return compute_kindness_index(uid)"
   ]
  },
  {
   "cell_type": "code",
   "execution_count": null,
   "metadata": {},
   "outputs": [],
   "source": []
  }
 ],
 "metadata": {
  "kernelspec": {
   "display_name": "Python 3",
   "language": "python",
   "name": "python3"
  },
  "language_info": {
   "codemirror_mode": {
    "name": "ipython",
    "version": 3
   },
   "file_extension": ".py",
   "mimetype": "text/x-python",
   "name": "python",
   "nbconvert_exporter": "python",
   "pygments_lexer": "ipython3",
   "version": "3.6.8"
  }
 },
 "nbformat": 4,
 "nbformat_minor": 2
}
