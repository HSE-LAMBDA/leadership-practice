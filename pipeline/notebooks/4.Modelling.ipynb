{
 "cells": [
  {
   "cell_type": "code",
   "execution_count": 2,
   "metadata": {},
   "outputs": [
    {
     "name": "stdout",
     "output_type": "stream",
     "text": [
      "Populating the interactive namespace from numpy and matplotlib\n"
     ]
    }
   ],
   "source": [
    "%pylab inline\n",
    "%config InlineBackend.figure_format = 'retina'\n",
    "style.use('dark_background')\n",
    "from IPython.display import clear_output\n",
    "from copy import copy, deepcopy\n",
    "from tqdm import tqdm_notebook as tm\n",
    "from tqdm import trange\n",
    "from glob import glob\n",
    "import os\n",
    "import sys"
   ]
  },
  {
   "cell_type": "code",
   "execution_count": 3,
   "metadata": {},
   "outputs": [],
   "source": [
    "os.environ['CUDA_VISIBLE_DEVICES'] = \"5\""
   ]
  },
  {
   "cell_type": "code",
   "execution_count": 4,
   "metadata": {},
   "outputs": [
    {
     "data": {
      "text/plain": [
       "[photo_urls, embeddings, has_embedding, hate_index, is_leader_v1, leader_type_v0]"
      ]
     },
     "execution_count": 4,
     "metadata": {},
     "output_type": "execute_result"
    },
    {
     "data": {
      "text/plain": [
       "[get_df_input, run_sql, get_uid, get_photo_urls, download_img, write_embedding, get_embedding, get_conn, compute_hate_index, multiclass_accuracy]"
      ]
     },
     "execution_count": 4,
     "metadata": {},
     "output_type": "execute_result"
    }
   ],
   "source": [
    "import pandas as pd\n",
    "import kts\n",
    "from kts import *\n",
    "features\n",
    "helpers\n",
    "features.define_in_scope(globals())\n",
    "helpers.define_in_scope(globals())\n",
    "train = kts.load('train')"
   ]
  },
  {
   "cell_type": "code",
   "execution_count": 5,
   "metadata": {},
   "outputs": [],
   "source": [
    "fs_1 = FeatureSet([embeddings, has_embedding, hate_index, is_leader_v1],\n",
    "                  df_input=train,\n",
    "                  target_column=\"is_leader\",\n",
    "                  description=\"Embeddings + fake hate index + leadership_target from csv\"\n",
    "                 )"
   ]
  },
  {
   "cell_type": "code",
   "execution_count": 7,
   "metadata": {},
   "outputs": [
    {
     "data": {
      "text/plain": [
       "0.15638602407748717"
      ]
     },
     "execution_count": 7,
     "metadata": {},
     "output_type": "execute_result"
    }
   ],
   "source": [
    "fs_1[:]['is_leader'].mean()"
   ]
  },
  {
   "cell_type": "code",
   "execution_count": 6,
   "metadata": {},
   "outputs": [],
   "source": [
    "from sklearn.metrics import roc_auc_score\n",
    "from sklearn.model_selection import StratifiedKFold\n",
    "\n",
    "skf = StratifiedKFold(5, True, 42)\n",
    "val = Validator(skf, roc_auc_score)"
   ]
  },
  {
   "cell_type": "code",
   "execution_count": 7,
   "metadata": {},
   "outputs": [
    {
     "data": {
      "text/html": [
       "ID: 36D789<p> Score: 0.6043034305429769<p>Total time: 03:04 <p>Validation of cb_ed9_x5-fs_1:"
      ],
      "text/plain": [
       "<IPython.core.display.HTML object>"
      ]
     },
     "metadata": {},
     "output_type": "display_data"
    },
    {
     "name": "stdout",
     "output_type": "stream",
     "text": [
      "Learning rate set to 0.115178\n",
      "0:\tlearn: 0.5817623\ttest: 0.5812948\tbest: 0.5812948 (0)\ttotal: 41.5ms\tremaining: 41.4s\n",
      "500:\tlearn: 0.7560865\ttest: 0.6010288\tbest: 0.6087783 (93)\ttotal: 18.2s\tremaining: 18.1s\n",
      "999:\tlearn: 0.7752381\ttest: 0.5995104\tbest: 0.6087783 (93)\ttotal: 33.2s\tremaining: 0us\n",
      "bestTest = 0.6087782681\n",
      "bestIteration = 93\n",
      "Shrink model to first 94 iterations.\n",
      "Learning rate set to 0.115179\n",
      "0:\tlearn: 0.5840433\ttest: 0.5791443\tbest: 0.5791443 (0)\ttotal: 35.3ms\tremaining: 35.3s\n",
      "500:\tlearn: 0.7824899\ttest: 0.5805098\tbest: 0.6050424 (33)\ttotal: 18.7s\tremaining: 18.6s\n",
      "999:\tlearn: 0.8002698\ttest: 0.5746548\tbest: 0.6050424 (33)\ttotal: 34.1s\tremaining: 0us\n",
      "bestTest = 0.605042398\n",
      "bestIteration = 33\n",
      "Shrink model to first 34 iterations.\n",
      "Learning rate set to 0.115179\n",
      "0:\tlearn: 0.5849838\ttest: 0.5774786\tbest: 0.5774786 (0)\ttotal: 33.9ms\tremaining: 33.9s\n",
      "500:\tlearn: 0.7584011\ttest: 0.5843297\tbest: 0.5991414 (5)\ttotal: 17.9s\tremaining: 17.8s\n",
      "999:\tlearn: 0.7807804\ttest: 0.5823917\tbest: 0.5991414 (5)\ttotal: 33.3s\tremaining: 0us\n",
      "bestTest = 0.5991413593\n",
      "bestIteration = 5\n",
      "Shrink model to first 6 iterations.\n",
      "Learning rate set to 0.115179\n",
      "0:\tlearn: 0.5834915\ttest: 0.5787455\tbest: 0.5787455 (0)\ttotal: 33.2ms\tremaining: 33.1s\n",
      "500:\tlearn: 0.7665233\ttest: 0.5942279\tbest: 0.6058419 (15)\ttotal: 17.9s\tremaining: 17.9s\n",
      "999:\tlearn: 0.7997914\ttest: 0.5867577\tbest: 0.6058419 (15)\ttotal: 35.2s\tremaining: 0us\n",
      "bestTest = 0.6058419347\n",
      "bestIteration = 15\n",
      "Shrink model to first 16 iterations.\n",
      "Learning rate set to 0.115179\n",
      "0:\tlearn: 0.5739533\ttest: 0.5667834\tbest: 0.5667834 (0)\ttotal: 34.5ms\tremaining: 34.4s\n",
      "500:\tlearn: 0.7595109\ttest: 0.5908623\tbest: 0.6027161 (75)\ttotal: 18.1s\tremaining: 18s\n",
      "999:\tlearn: 0.7918382\ttest: 0.5835024\tbest: 0.6027161 (75)\ttotal: 34.9s\tremaining: 0us\n",
      "bestTest = 0.6027161479\n",
      "bestIteration = 75\n",
      "Shrink model to first 76 iterations.\n"
     ]
    },
    {
     "data": {
      "text/plain": [
       "0.6043034305429769"
      ]
     },
     "execution_count": 7,
     "metadata": {},
     "output_type": "execute_result"
    }
   ],
   "source": [
    "cb = zoo.bc.CatBoostClassifier(task_type=\"GPU\", eval_metric=\"AUC\")\n",
    "val.score(cb, fs_1, 'default catboost', verbose=500)\n"
   ]
  },
  {
   "cell_type": "code",
   "execution_count": 8,
   "metadata": {},
   "outputs": [
    {
     "data": {
      "text/html": [
       "<style  type=\"text/css\" >\n",
       "</style><table id=\"T_6705af12_c990_11e9_afb7_d4c9efced0b6\" ><thead>    <tr>        <th class=\"blank level0\" ></th>        <th class=\"col_heading level0 col0\" >Score</th>        <th class=\"col_heading level0 col1\" >std</th>        <th class=\"col_heading level0 col2\" >Model</th>        <th class=\"col_heading level0 col3\" >FS</th>        <th class=\"col_heading level0 col4\" >Description</th>        <th class=\"col_heading level0 col5\" >FS description</th>        <th class=\"col_heading level0 col6\" >Model source</th>        <th class=\"col_heading level0 col7\" >FS source</th>        <th class=\"col_heading level0 col8\" >Splitter</th>    </tr>    <tr>        <th class=\"index_name level0\" >ID</th>        <th class=\"blank\" ></th>        <th class=\"blank\" ></th>        <th class=\"blank\" ></th>        <th class=\"blank\" ></th>        <th class=\"blank\" ></th>        <th class=\"blank\" ></th>        <th class=\"blank\" ></th>        <th class=\"blank\" ></th>        <th class=\"blank\" ></th>    </tr></thead><tbody>\n",
       "                <tr>\n",
       "                        <th id=\"T_6705af12_c990_11e9_afb7_d4c9efced0b6level0_row0\" class=\"row_heading level0 row0\" >36D789</th>\n",
       "                        <td id=\"T_6705af12_c990_11e9_afb7_d4c9efced0b6row0_col0\" class=\"data row0 col0\" >0.604303</td>\n",
       "                        <td id=\"T_6705af12_c990_11e9_afb7_d4c9efced0b6row0_col1\" class=\"data row0 col1\" >0.0032273</td>\n",
       "                        <td id=\"T_6705af12_c990_11e9_afb7_d4c9efced0b6row0_col2\" class=\"data row0 col2\" >cb_ed9</td>\n",
       "                        <td id=\"T_6705af12_c990_11e9_afb7_d4c9efced0b6row0_col3\" class=\"data row0 col3\" >fs_1</td>\n",
       "                        <td id=\"T_6705af12_c990_11e9_afb7_d4c9efced0b6row0_col4\" class=\"data row0 col4\" >default catboost</td>\n",
       "                        <td id=\"T_6705af12_c990_11e9_afb7_d4c9efced0b6row0_col5\" class=\"data row0 col5\" >Embeddings + fake hate index + leadership_target from csv</td>\n",
       "                        <td id=\"T_6705af12_c990_11e9_afb7_d4c9efced0b6row0_col6\" class=\"data row0 col6\" >CatBoostClassifier(loss_function='Logloss', task_type='GPU', eval_metric='AUC')</td>\n",
       "                        <td id=\"T_6705af12_c990_11e9_afb7_d4c9efced0b6row0_col7\" class=\"data row0 col7\" >FeatureSet(fc_before=stl.concat([embeddings, has_embedding, hate_index, is_leader_v1]),\n",
       "           fc_after=stl.empty_like,\n",
       "           target_column='is_leader', group_column=None)</td>\n",
       "                        <td id=\"T_6705af12_c990_11e9_afb7_d4c9efced0b6row0_col8\" class=\"data row0 col8\" >StratifiedKFold(n_splits=5, random_state=42, shuffle=True)</td>\n",
       "            </tr>\n",
       "    </tbody></table>"
      ],
      "text/plain": [
       "<kts.validation.leaderboard.Leaderboard at 0x2aab89391a58>"
      ]
     },
     "execution_count": 8,
     "metadata": {},
     "output_type": "execute_result"
    }
   ],
   "source": [
    "lb"
   ]
  },
  {
   "cell_type": "code",
   "execution_count": 10,
   "metadata": {},
   "outputs": [
    {
     "data": {
      "text/html": [
       "\n",
       "    <div>\n",
       "        <style>\n",
       "            /* Turns off some styling */\n",
       "            progress {\n",
       "                /* gets rid of default border in Firefox and Opera. */\n",
       "                border: none;\n",
       "                /* Needs to be in here for Safari polyfill so background images work as expected. */\n",
       "                background-size: auto;\n",
       "            }\n",
       "            .progress-bar-interrupted, .progress-bar-interrupted::-webkit-progress-bar {\n",
       "                background: #F44336;\n",
       "            }\n",
       "        </style>\n",
       "      <progress value='5' class='' max='5', style='width:300px; height:20px; vertical-align: middle;'></progress>\n",
       "      100.00% [5/5 00:00<00:00]\n",
       "    </div>\n",
       "    "
      ],
      "text/plain": [
       "<IPython.core.display.HTML object>"
      ]
     },
     "metadata": {},
     "output_type": "display_data"
    },
    {
     "data": {
      "text/plain": [
       "<matplotlib.axes._subplots.AxesSubplot at 0x2aac28577c88>"
      ]
     },
     "execution_count": 10,
     "metadata": {},
     "output_type": "execute_result"
    },
    {
     "data": {
      "text/html": [
       "\n",
       "    <div>\n",
       "        <style>\n",
       "            /* Turns off some styling */\n",
       "            progress {\n",
       "                /* gets rid of default border in Firefox and Opera. */\n",
       "                border: none;\n",
       "                /* Needs to be in here for Safari polyfill so background images work as expected. */\n",
       "                background-size: auto;\n",
       "            }\n",
       "            .progress-bar-interrupted, .progress-bar-interrupted::-webkit-progress-bar {\n",
       "                background: #F44336;\n",
       "            }\n",
       "        </style>\n",
       "      <progress value='5' class='' max='5', style='width:300px; height:20px; vertical-align: middle;'></progress>\n",
       "      100.00% [5/5 00:00<00:00]\n",
       "    </div>\n",
       "    "
      ],
      "text/plain": [
       "<IPython.core.display.HTML object>"
      ]
     },
     "metadata": {},
     "output_type": "display_data"
    },
    {
     "data": {
      "text/html": [
       "<div>\n",
       "<style scoped>\n",
       "    .dataframe tbody tr th:only-of-type {\n",
       "        vertical-align: middle;\n",
       "    }\n",
       "\n",
       "    .dataframe tbody tr th {\n",
       "        vertical-align: top;\n",
       "    }\n",
       "\n",
       "    .dataframe thead th {\n",
       "        text-align: right;\n",
       "    }\n",
       "</style>\n",
       "<table border=\"1\" class=\"dataframe\">\n",
       "  <thead>\n",
       "    <tr style=\"text-align: right;\">\n",
       "      <th></th>\n",
       "      <th>face_0</th>\n",
       "      <th>face_1</th>\n",
       "      <th>face_2</th>\n",
       "      <th>face_3</th>\n",
       "      <th>face_4</th>\n",
       "      <th>face_5</th>\n",
       "      <th>face_6</th>\n",
       "      <th>face_7</th>\n",
       "      <th>face_8</th>\n",
       "      <th>face_9</th>\n",
       "      <th>...</th>\n",
       "      <th>face_120</th>\n",
       "      <th>face_121</th>\n",
       "      <th>face_122</th>\n",
       "      <th>face_123</th>\n",
       "      <th>face_124</th>\n",
       "      <th>face_125</th>\n",
       "      <th>face_126</th>\n",
       "      <th>face_127</th>\n",
       "      <th>has_embedding</th>\n",
       "      <th>hate_index</th>\n",
       "    </tr>\n",
       "  </thead>\n",
       "  <tbody>\n",
       "    <tr>\n",
       "      <th>0</th>\n",
       "      <td>0.000000</td>\n",
       "      <td>0.000000</td>\n",
       "      <td>0.000000</td>\n",
       "      <td>0.168730</td>\n",
       "      <td>0.000000</td>\n",
       "      <td>0.004799</td>\n",
       "      <td>0.000000</td>\n",
       "      <td>0.183211</td>\n",
       "      <td>0.000000</td>\n",
       "      <td>0.564261</td>\n",
       "      <td>...</td>\n",
       "      <td>0.000000</td>\n",
       "      <td>0.000000</td>\n",
       "      <td>0.0</td>\n",
       "      <td>0.000000</td>\n",
       "      <td>0.338761</td>\n",
       "      <td>0.000000</td>\n",
       "      <td>0.000000</td>\n",
       "      <td>0.635856</td>\n",
       "      <td>0.613414</td>\n",
       "      <td>87.975891</td>\n",
       "    </tr>\n",
       "    <tr>\n",
       "      <th>1</th>\n",
       "      <td>0.196574</td>\n",
       "      <td>0.708816</td>\n",
       "      <td>0.338105</td>\n",
       "      <td>1.306641</td>\n",
       "      <td>1.015731</td>\n",
       "      <td>0.826114</td>\n",
       "      <td>0.284967</td>\n",
       "      <td>1.387545</td>\n",
       "      <td>0.432056</td>\n",
       "      <td>1.121940</td>\n",
       "      <td>...</td>\n",
       "      <td>0.506488</td>\n",
       "      <td>1.108457</td>\n",
       "      <td>0.0</td>\n",
       "      <td>0.399577</td>\n",
       "      <td>0.843323</td>\n",
       "      <td>0.922313</td>\n",
       "      <td>0.000000</td>\n",
       "      <td>0.769598</td>\n",
       "      <td>0.462072</td>\n",
       "      <td>32.613718</td>\n",
       "    </tr>\n",
       "    <tr>\n",
       "      <th>2</th>\n",
       "      <td>0.000000</td>\n",
       "      <td>0.000000</td>\n",
       "      <td>0.068081</td>\n",
       "      <td>0.378205</td>\n",
       "      <td>1.026496</td>\n",
       "      <td>0.580561</td>\n",
       "      <td>0.519721</td>\n",
       "      <td>0.000000</td>\n",
       "      <td>0.419541</td>\n",
       "      <td>0.000000</td>\n",
       "      <td>...</td>\n",
       "      <td>0.817483</td>\n",
       "      <td>0.000000</td>\n",
       "      <td>0.0</td>\n",
       "      <td>0.000000</td>\n",
       "      <td>0.356561</td>\n",
       "      <td>0.000000</td>\n",
       "      <td>0.000000</td>\n",
       "      <td>0.251271</td>\n",
       "      <td>0.421724</td>\n",
       "      <td>67.420377</td>\n",
       "    </tr>\n",
       "    <tr>\n",
       "      <th>3</th>\n",
       "      <td>0.000000</td>\n",
       "      <td>0.000000</td>\n",
       "      <td>0.222026</td>\n",
       "      <td>0.000000</td>\n",
       "      <td>0.000000</td>\n",
       "      <td>0.006896</td>\n",
       "      <td>0.000000</td>\n",
       "      <td>0.000000</td>\n",
       "      <td>0.000000</td>\n",
       "      <td>0.000000</td>\n",
       "      <td>...</td>\n",
       "      <td>0.000000</td>\n",
       "      <td>0.000000</td>\n",
       "      <td>0.0</td>\n",
       "      <td>0.000000</td>\n",
       "      <td>0.000000</td>\n",
       "      <td>0.000000</td>\n",
       "      <td>0.000000</td>\n",
       "      <td>0.000000</td>\n",
       "      <td>0.023999</td>\n",
       "      <td>95.326993</td>\n",
       "    </tr>\n",
       "    <tr>\n",
       "      <th>4</th>\n",
       "      <td>0.967056</td>\n",
       "      <td>0.562182</td>\n",
       "      <td>0.395393</td>\n",
       "      <td>2.276542</td>\n",
       "      <td>0.288692</td>\n",
       "      <td>0.099326</td>\n",
       "      <td>0.000000</td>\n",
       "      <td>0.271011</td>\n",
       "      <td>0.375888</td>\n",
       "      <td>0.733804</td>\n",
       "      <td>...</td>\n",
       "      <td>0.060020</td>\n",
       "      <td>0.479650</td>\n",
       "      <td>0.0</td>\n",
       "      <td>0.330109</td>\n",
       "      <td>0.285465</td>\n",
       "      <td>0.000000</td>\n",
       "      <td>0.199587</td>\n",
       "      <td>0.265124</td>\n",
       "      <td>0.339393</td>\n",
       "      <td>38.352510</td>\n",
       "    </tr>\n",
       "  </tbody>\n",
       "</table>\n",
       "<p>5 rows × 130 columns</p>\n",
       "</div>"
      ],
      "text/plain": [
       "     face_0    face_1    face_2    face_3    face_4    face_5    face_6  \\\n",
       "0  0.000000  0.000000  0.000000  0.168730  0.000000  0.004799  0.000000   \n",
       "1  0.196574  0.708816  0.338105  1.306641  1.015731  0.826114  0.284967   \n",
       "2  0.000000  0.000000  0.068081  0.378205  1.026496  0.580561  0.519721   \n",
       "3  0.000000  0.000000  0.222026  0.000000  0.000000  0.006896  0.000000   \n",
       "4  0.967056  0.562182  0.395393  2.276542  0.288692  0.099326  0.000000   \n",
       "\n",
       "     face_7    face_8    face_9  ...  face_120  face_121  face_122  face_123  \\\n",
       "0  0.183211  0.000000  0.564261  ...  0.000000  0.000000       0.0  0.000000   \n",
       "1  1.387545  0.432056  1.121940  ...  0.506488  1.108457       0.0  0.399577   \n",
       "2  0.000000  0.419541  0.000000  ...  0.817483  0.000000       0.0  0.000000   \n",
       "3  0.000000  0.000000  0.000000  ...  0.000000  0.000000       0.0  0.000000   \n",
       "4  0.271011  0.375888  0.733804  ...  0.060020  0.479650       0.0  0.330109   \n",
       "\n",
       "   face_124  face_125  face_126  face_127  has_embedding  hate_index  \n",
       "0  0.338761  0.000000  0.000000  0.635856       0.613414   87.975891  \n",
       "1  0.843323  0.922313  0.000000  0.769598       0.462072   32.613718  \n",
       "2  0.356561  0.000000  0.000000  0.251271       0.421724   67.420377  \n",
       "3  0.000000  0.000000  0.000000  0.000000       0.023999   95.326993  \n",
       "4  0.285465  0.000000  0.199587  0.265124       0.339393   38.352510  \n",
       "\n",
       "[5 rows x 130 columns]"
      ]
     },
     "execution_count": 10,
     "metadata": {},
     "output_type": "execute_result"
    },
    {
     "data": {
      "image/png": "[encoded data removed]",
      "text/plain": [
       "<Figure size 576x360 with 1 Axes>"
      ]
     },
     "metadata": {
      "image/png": {
       "height": 322,
       "width": 560
      },
      "needs_background": "dark"
     },
     "output_type": "display_data"
    }
   ],
   "source": [
    "exp = lb['36D789']\n",
    "\n",
    "exp.feature_importances(plot=True)\n",
    "exp.feature_importances()"
   ]
  },
  {
   "cell_type": "markdown",
   "metadata": {},
   "source": [
    "Interesting considering that hate index depends on index."
   ]
  },
  {
   "cell_type": "code",
   "execution_count": 18,
   "metadata": {},
   "outputs": [
    {
     "data": {
      "text/plain": [
       "is_leader\n",
       "0    523.621622\n",
       "1    736.829237\n",
       "Name: hate_index, dtype: float64"
      ]
     },
     "execution_count": 18,
     "metadata": {},
     "output_type": "execute_result"
    }
   ],
   "source": [
    "fs_1[:].groupby('is_leader')['hate_index'].mean()"
   ]
  },
  {
   "cell_type": "markdown",
   "metadata": {},
   "source": [
    "Let's compute permutation importance instead of built-in."
   ]
  },
  {
   "cell_type": "code",
   "execution_count": 20,
   "metadata": {},
   "outputs": [
    {
     "data": {
      "text/html": [
       "\n",
       "    <div>\n",
       "        <style>\n",
       "            /* Turns off some styling */\n",
       "            progress {\n",
       "                /* gets rid of default border in Firefox and Opera. */\n",
       "                border: none;\n",
       "                /* Needs to be in here for Safari polyfill so background images work as expected. */\n",
       "                background-size: auto;\n",
       "            }\n",
       "            .progress-bar-interrupted, .progress-bar-interrupted::-webkit-progress-bar {\n",
       "                background: #F44336;\n",
       "            }\n",
       "        </style>\n",
       "      <progress value='5' class='' max='5', style='width:300px; height:20px; vertical-align: middle;'></progress>\n",
       "      100.00% [5/5 03:14<00:00]\n",
       "    </div>\n",
       "    "
      ],
      "text/plain": [
       "<IPython.core.display.HTML object>"
      ]
     },
     "metadata": {},
     "output_type": "display_data"
    },
    {
     "data": {
      "text/plain": [
       "<matplotlib.axes._subplots.AxesSubplot at 0x2aab8ff0edd8>"
      ]
     },
     "execution_count": 20,
     "metadata": {},
     "output_type": "execute_result"
    },
    {
     "data": {
      "image/png": "[encoded data removed]",
      "text/plain": [
       "<Figure size 576x360 with 1 Axes>"
      ]
     },
     "metadata": {
      "image/png": {
       "height": 322,
       "width": 580
      },
      "needs_background": "dark"
     },
     "output_type": "display_data"
    }
   ],
   "source": [
    "exp.set_df(train)\n",
    "exp.feature_importances(True, selection.PermutationImportance(n_rows=5000))"
   ]
  },
  {
   "cell_type": "markdown",
   "metadata": {},
   "source": [
    "Looks slightly better, but still..."
   ]
  },
  {
   "cell_type": "code",
   "execution_count": null,
   "metadata": {},
   "outputs": [],
   "source": []
  }
 ],
 "metadata": {
  "kernelspec": {
   "display_name": "Python 3",
   "language": "python",
   "name": "python3"
  },
  "language_info": {
   "codemirror_mode": {
    "name": "ipython",
    "version": 3
   },
   "file_extension": ".py",
   "mimetype": "text/x-python",
   "name": "python",
   "nbconvert_exporter": "python",
   "pygments_lexer": "ipython3",
   "version": "3.6.3"
  }
 },
 "nbformat": 4,
 "nbformat_minor": 2
}
